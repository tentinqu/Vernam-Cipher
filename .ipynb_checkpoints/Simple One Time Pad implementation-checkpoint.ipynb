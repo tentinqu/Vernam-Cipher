{
 "cells": [
  {
   "cell_type": "code",
   "execution_count": 24,
   "id": "ab06510e",
   "metadata": {},
   "outputs": [
    {
     "data": {
      "text/plain": [
       "'C:\\\\Users\\\\Harshit Chauhan'"
      ]
     },
     "execution_count": 24,
     "metadata": {},
     "output_type": "execute_result"
    }
   ],
   "source": [
    "%pwd"
   ]
  },
  {
   "cell_type": "code",
   "execution_count": 18,
   "id": "45de022c",
   "metadata": {},
   "outputs": [],
   "source": [
    "import secrets \n",
    "import string"
   ]
  },
  {
   "cell_type": "code",
   "execution_count": 19,
   "id": "4398921a",
   "metadata": {},
   "outputs": [],
   "source": [
    "def otp(message):\n",
    "  plain_dict = {index: letter for index,\n",
    "                letter in enumerate(string.ascii_lowercase)}\n",
    "  inv_dict = {letter:index for index, letter in plain_dict.items()}\n",
    "  message = message.lower()\n",
    "  message = ''.join(letter for letter in message if letter.isalnum())\n",
    "  key = []\n",
    "\n",
    "  while len(key) < len(message):\n",
    "    key.append(secrets.choice(range(0,len(plain_dict))))\n",
    "\n",
    "  encrypt_list = [(inv_dict[let]+ind)%len(plain_dict) for let, \n",
    "                  ind in zip(message,key)]\n",
    "\n",
    "  return [''.join([plain_dict[ind] for ind in encrypt_list]), key]"
   ]
  },
  {
   "cell_type": "code",
   "execution_count": 20,
   "id": "5d8e4516",
   "metadata": {},
   "outputs": [
    {
     "name": "stdout",
     "output_type": "stream",
     "text": [
      "The one time pad cipher text: gibeevlhyaedguk\n"
     ]
    }
   ],
   "source": [
    "otp_encryption = otp('Hello, I am Harshit')\n",
    "\n",
    "otp_cipher = otp_encryption[0]\n",
    "otp_key = otp_encryption[1]\n",
    "\n",
    "print(f'The one time pad cipher text: {otp_cipher}')"
   ]
  },
  {
   "cell_type": "code",
   "execution_count": 21,
   "id": "bf9f34b0",
   "metadata": {},
   "outputs": [],
   "source": [
    "def otp_decryption(cipher_text, key):\n",
    "  plain_dict = {index: letter for index, letter in enumerate(string.ascii_lowercase)}\n",
    "  inv_dict = {letter:index for index, letter in plain_dict.items()}\n",
    "  cipher_list = [inv_dict[let] for let in cipher_text]\n",
    "  \n",
    "  return ''.join([plain_dict[(c_index-key_index)%26] for c_index,key_index in zip(cipher_list, key)])"
   ]
  },
  {
   "cell_type": "code",
   "execution_count": 22,
   "id": "f67a63fe",
   "metadata": {},
   "outputs": [
    {
     "data": {
      "text/plain": [
       "'helloiamharshit'"
      ]
     },
     "execution_count": 22,
     "metadata": {},
     "output_type": "execute_result"
    }
   ],
   "source": [
    "otp_decryption(otp_cipher, otp_key)"
   ]
  },
  {
   "cell_type": "code",
   "execution_count": 23,
   "id": "71dea775",
   "metadata": {},
   "outputs": [
    {
     "data": {
      "text/plain": [
       "True"
      ]
     },
     "execution_count": 23,
     "metadata": {},
     "output_type": "execute_result"
    }
   ],
   "source": [
    "len(otp_key) == len(otp_decryption(otp_cipher, otp_key))"
   ]
  }
 ],
 "metadata": {
  "kernelspec": {
   "display_name": "Python 3 (ipykernel)",
   "language": "python",
   "name": "python3"
  },
  "language_info": {
   "codemirror_mode": {
    "name": "ipython",
    "version": 3
   },
   "file_extension": ".py",
   "mimetype": "text/x-python",
   "name": "python",
   "nbconvert_exporter": "python",
   "pygments_lexer": "ipython3",
   "version": "3.10.10"
  }
 },
 "nbformat": 4,
 "nbformat_minor": 5
}
